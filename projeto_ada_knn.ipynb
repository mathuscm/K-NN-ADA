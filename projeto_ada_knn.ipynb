{
  "nbformat": 4,
  "nbformat_minor": 0,
  "metadata": {
    "colab": {
      "provenance": [],
      "authorship_tag": "ABX9TyMe3ewZkeH2O4iRnDpE8rjy",
      "include_colab_link": true
    },
    "kernelspec": {
      "name": "python3",
      "display_name": "Python 3"
    },
    "language_info": {
      "name": "python"
    }
  },
  "cells": [
    {
      "cell_type": "markdown",
      "metadata": {
        "id": "view-in-github",
        "colab_type": "text"
      },
      "source": [
        "<a href=\"https://colab.research.google.com/github/mathuscm/K-NN-ADA/blob/main/projeto_ada_knn.ipynb\" target=\"_parent\"><img src=\"https://colab.research.google.com/assets/colab-badge.svg\" alt=\"Open In Colab\"/></a>"
      ]
    },
    {
      "cell_type": "markdown",
      "source": [
        "# K-Nearest Neighbors - KNN"
      ],
      "metadata": {
        "id": "e-lYOvBcPg17"
      }
    },
    {
      "cell_type": "markdown",
      "source": [
        "Modelo supervisionado de machine learning que pode ser utilizado tanto para classificação, isto é, rotular os dados; quanto para regressão, ou seja, aproximar valores.\n",
        "\n",
        "## Características\n",
        "\n",
        "* Simples\n",
        "* Interpretável\n",
        "* Largamente conhecido e estudado\n",
        "* Razoavelmente rápido\n",
        "\n",
        "Por conta disso é um ótimo benchmark"
      ],
      "metadata": {
        "id": "q-jHDt99PnEn"
      }
    },
    {
      "cell_type": "markdown",
      "source": [
        "# Algoritmo\n",
        "\n",
        "- Passo 1: Definir um valor para K\n",
        "- Passo 2: Definir os K vizinhos mais próximos do ponto a ser classificado de acordo com uma função de distância.\n",
        "- Passo 3:\n",
        "  - Se for um problema de Regressão:  \n",
        "  Calcular a média de todos os vizinhos.\n",
        "  - Se for um problema de Classificação: Calcular a moda de todos os vizinhos.\n",
        "- Passo 4: Atribuir o valor/classe ao ponto de interesse conforme cálculo do Passo 3.\n",
        "Links Úteis\n",
        "\n",
        "Definições\n",
        "\n",
        "- \"Primeira\" aparição do modelo\n",
        "- Expansão do KNN\n",
        "\n",
        "Casos de uso\n",
        "\n",
        "- Click Stream\n",
        "- Battery life\n",
        "- Mahalanobis Distance\n",
        "\n",
        "Dataviz\n",
        "\n",
        "- Stanford\n",
        "- IRA\n",
        "\n",
        "Definição do Problema\n",
        "\n",
        "Dados\n",
        "\n",
        "Os dados abaixo são referentes ao cadastro de clientes de uma empresa de investimentos com suas respectivas carteira de investimentos, que indica se esse cliente tem o perfil de investidor Conservador, Moderado ou Agressivo. O nosso intuito é, a partir do investimento de alguns clientes que já tem um perfil definido, estimar esse perfil para aqueles que ainda não estão classificado, afim de oferecer novos produtos que sejam mais adequados a eles.\n",
        "\n",
        "Os dados abaixo seguem o seguinte padrão:\n",
        "\n",
        "[CPF: INT, Perfil Do Investidor: STRING, Carteira de Investimento: TUPLA]\n",
        "\n",
        "Regras\n",
        "\n",
        "- Se você precisar de uma função para computar algo crie ela\n",
        "- Não é permitido usar nenhum módulo externo como numpy e math\n",
        "- Use apenas os objetos e fluxos visto até o momento no curso\n",
        "- Se você tiver dificuldade de trabalhar com mais de 2 dimensões, pode utilizar apenas os dois primeiros valores de cada tupla\n",
        "- O objetivo principal desse projeto não é encontrar o modelo de knn mais otimizado, mas sim você conseguir criar um modelo de KNN, independente se ele é o melhor ou não\n",
        "- Não precisa se preocupar com a normalização das dimensões. É algo que vocês não viram"
      ],
      "metadata": {
        "id": "5UVYtwWZPwPX"
      }
    },
    {
      "cell_type": "code",
      "source": [
        "## Este programa será um protótipo de classificação\n",
        "# Definindo o valor de K e clientes -> [CPF: INT, Perfil Do Investidor: STRING, Carteira de Investimento: TUPLA] -> Conservador, moderado ou agressivo\n",
        "# Definir os K vizinhos mais próximos do ponto a ser classificado de acordo com uma função de distância\n",
        "# Criar uma função que registre a entrada de um novo cliente\n",
        "# Criar uma função que calcule o perfil de investidor do novo cliente com base nos perfis existentes\n",
        "# para realizar o cálculo será necessário definir uma \"janela\" que classifique os perfis, por exemplo:  de 5000 a 10000 é conservador (ponto x ao ponto y)"
      ],
      "metadata": {
        "id": "mCZ7vywY4sSO"
      },
      "execution_count": null,
      "outputs": []
    },
    {
      "cell_type": "code",
      "source": [
        "# criar uma lista de dicionários para que os dados com a mesma chave não sejam sobrescritos\n",
        "# o perfil moderado será de 1000 a 5999, conservador de 6000 a 11999, agressivo > 12000\n",
        "cadastro_clientes = [\n",
        "    {'CPF': 3216549870, 'Perfil Do Investidor': 'Moderaro', 'Carteira de Investimento': (3000, 5000)},\n",
        "    {'CPF': 6549873212, 'Perfil Do Investidor': 'Conservador', 'Carteira de Investimento': (7000, 11000)},\n",
        "    {'CPF': 9876543213, 'Perfil Do Investidor': 'Moderado', 'Carteira de Investimento': (2000, 4000)},\n",
        "    {'CPF': 1234567894, 'Perfil Do Investidor': 'Agressivo', 'Carteira de Investimento': (13000, 20000)},\n",
        "    {'CPF': 4567891235, 'Perfil Do Investidor': 'Conservador', 'Carteira de Investimento': (6000, 8000)},\n",
        "    {'CPF': 7891234566, 'Perfil Do Investidor': 'Agressivo', 'Carteira de Investimento': (12000, 15000)}\n",
        "]"
      ],
      "metadata": {
        "id": "n4SLttv9eMAv"
      },
      "execution_count": 1,
      "outputs": []
    },
    {
      "cell_type": "code",
      "source": [
        "# loop para verificar a qualidade do dicionário gerado\n",
        "for clientes in cadastro_clientes:\n",
        "  print(clientes)"
      ],
      "metadata": {
        "colab": {
          "base_uri": "https://localhost:8080/"
        },
        "id": "1zcabJcWePjn",
        "outputId": "30c1cc9a-ecc4-4fc5-d57c-b2106eefa05a"
      },
      "execution_count": 2,
      "outputs": [
        {
          "output_type": "stream",
          "name": "stdout",
          "text": [
            "{'CPF': 3216549870, 'Perfil Do Investidor': 'Moderaro', 'Carteira de Investimento': (3000, 5000)}\n",
            "{'CPF': 6549873212, 'Perfil Do Investidor': 'Conservador', 'Carteira de Investimento': (7000, 11000)}\n",
            "{'CPF': 9876543213, 'Perfil Do Investidor': 'Moderado', 'Carteira de Investimento': (2000, 4000)}\n",
            "{'CPF': 1234567894, 'Perfil Do Investidor': 'Agressivo', 'Carteira de Investimento': (13000, 20000)}\n",
            "{'CPF': 4567891235, 'Perfil Do Investidor': 'Conservador', 'Carteira de Investimento': (6000, 8000)}\n",
            "{'CPF': 7891234566, 'Perfil Do Investidor': 'Agressivo', 'Carteira de Investimento': (12000, 15000)}\n"
          ]
        }
      ]
    },
    {
      "cell_type": "code",
      "source": [
        "# dict vazio para armazenar o novo cliente cadastrado\n",
        "novo_cliente = {}\n",
        "\n",
        "# função para adicionar um novo cliente que logo será classificado\n",
        "def registrar_novo_cliente():\n",
        "  novo_cliente['CPF'] = int(input('Digite o CPF do novo cliente: '))\n",
        "  valor_invest_1 = float(input('Digite o primeiro valor médio do investimento do novo cliente: '))\n",
        "  valor_invest_2 = float(input('Digite o segundo valor médio do investimento do novo cliente: '))\n",
        "  novo_cliente['Carteira de Investimento'] = (valor_invest_1, valor_invest_2)\n",
        "  novo_cliente['Perfil Do Investidor'] = ('perfil a definir')\n",
        "  cadastro_clientes.append(novo_cliente)\n",
        "  return print(novo_cliente)\n",
        "\n",
        "registrar_novo_cliente()\n",
        "\n",
        "# valor a partir do qual será feito a classificação do perfil do novo investidor\n",
        "K = 3\n"
      ],
      "metadata": {
        "id": "1ImAtiVtvZ7Z"
      },
      "execution_count": null,
      "outputs": []
    },
    {
      "cell_type": "code",
      "source": [
        "cadastro_clientes"
      ],
      "metadata": {
        "id": "c3X-QziBb-Fy"
      },
      "execution_count": null,
      "outputs": []
    },
    {
      "cell_type": "code",
      "source": [
        "# pensar em uma solução para comparar a distância\n",
        "def distancia_euclidiana(ponto_a, ponto_b):\n",
        "  raiz = (ponto_a - ponto_b)**2\n",
        "  return raiz**0.5"
      ],
      "metadata": {
        "id": "2gX4IYHLUGjK"
      },
      "execution_count": 4,
      "outputs": []
    },
    {
      "cell_type": "code",
      "source": [
        "# classificar os vizinhos fazendo a média pela quantidade dos mais próximos\n",
        "\n",
        "def vizinhos_proximos():\n",
        "  distancia = []\n",
        "  for clientes in cadastro_clientes:\n",
        "    distancia_euclidiana(novo_cliente['Carteira de Investimento'], clientes['Carteira de Investimento'])\n",
        "    distancia.append(distancia_euclidiana(novo_cliente['Carteira de Investimento'], clientes['Carteira de Investimento']))\n",
        "  return distancia"
      ],
      "metadata": {
        "id": "st5fZ2aYch1C"
      },
      "execution_count": 7,
      "outputs": []
    },
    {
      "cell_type": "code",
      "source": [
        "# classificar o cliente com base nos valores mais frequentes dos vizinhos\n",
        "\n",
        "def classificar_perfil_investidor(vizinhos):\n",
        "  for vizinho in vizinhos:\n",
        "    if vizinho <= 5999:\n",
        "      novo_cliente['Perfil Do Investidor'] = 'Conservador'\n",
        "    elif vizinho >= 6000 and vizinho <= 11999:\n",
        "      novo_cliente['Perfil Do Investidor'] = 'Moderado'\n",
        "    else:\n",
        "      novo_cliente['Perfil Do Investidor'] = 'Agressivo'\n",
        "  return novo_cliente"
      ],
      "metadata": {
        "id": "XLhn8Yoag9Ag"
      },
      "execution_count": 9,
      "outputs": []
    },
    {
      "cell_type": "markdown",
      "source": [
        "- O K-NN utiliza da média dos valores mais próximos para estimar o seu valor.\n",
        "- K-NN != de árvore de decisão\n",
        "- No modelo K-NN já é esperado que os elementos estejam próximos, evitar variáveis muito diferentes do tipo \"1,2,3,1000\"\n",
        "-"
      ],
      "metadata": {
        "id": "nOu015LemIMy"
      }
    },
    {
      "cell_type": "code",
      "source": [],
      "metadata": {
        "id": "Eaan8MZVjBTw"
      },
      "execution_count": null,
      "outputs": []
    },
    {
      "cell_type": "code",
      "source": [],
      "metadata": {
        "collapsed": true,
        "id": "0du8vLqgmRVc"
      },
      "execution_count": null,
      "outputs": []
    },
    {
      "cell_type": "code",
      "source": [],
      "metadata": {
        "collapsed": true,
        "id": "GT704Svnm2iq"
      },
      "execution_count": null,
      "outputs": []
    }
  ]
}